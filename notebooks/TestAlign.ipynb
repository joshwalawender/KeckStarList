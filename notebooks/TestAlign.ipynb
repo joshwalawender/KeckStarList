{
 "cells": [
  {
   "cell_type": "code",
   "execution_count": 1,
   "metadata": {},
   "outputs": [],
   "source": [
    "%matplotlib inline\n",
    "import os\n",
    "from matplotlib import pyplot as plt\n",
    "from scipy import ndimage\n",
    "\n",
    "import numpy as np\n",
    "from astropy.io import fits\n",
    "from astropy import units as u\n",
    "from astropy.modeling import models, fitting, Fittable2DModel, Parameter\n",
    "from ccdproc import CCDData, combine, Combiner, flat_correct, trim_image"
   ]
  },
  {
   "cell_type": "code",
   "execution_count": 2,
   "metadata": {},
   "outputs": [],
   "source": [
    "class mosfireAlignmentBox(Fittable2DModel):\n",
    "    amplitude = Parameter(default=1)\n",
    "    x_0 = Parameter(default=0)\n",
    "    y_0 = Parameter(default=0)\n",
    "    x_width = Parameter(default=1)\n",
    "    y_width = Parameter(default=1)\n",
    "\n",
    "    @staticmethod\n",
    "    def evaluate(x, y, amplitude, x_0, y_0, x_width, y_width):\n",
    "        '''MOSFIRE Alignment Box.\n",
    "        \n",
    "        Typical widths are 22.5 pix horizontally and 36.0 pix vertically.\n",
    "        \n",
    "        Angle of slit relative to pixels is 3.78 degrees.\n",
    "        '''\n",
    "        slit_angle = -3.7 # in degrees\n",
    "        x0_of_y = x_0 + (y-y_0)*np.sin(slit_angle*np.pi/180)\n",
    "        \n",
    "        x_range = np.logical_and(x >= x0_of_y - x_width / 2.,\n",
    "                                 x <= x0_of_y + x_width / 2.)\n",
    "        y_range = np.logical_and(y >= y_0 - y_width / 2.,\n",
    "                                 y <= y_0 + y_width / 2.)\n",
    "        result = np.select([np.logical_and(x_range, y_range)], [amplitude], 0)\n",
    "\n",
    "        if isinstance(amplitude, u.Quantity):\n",
    "            return Quantity(result, unit=amplitude.unit, copy=False)\n",
    "        else:\n",
    "            return result\n",
    "\n",
    "    @property\n",
    "    def bounding_box(self):\n",
    "        \"\"\"\n",
    "        Tuple defining the default ``bounding_box``.\n",
    "\n",
    "        ``((y_low, y_high), (x_low, x_high))``\n",
    "        \"\"\"\n",
    "\n",
    "        dx = self.x_width / 2\n",
    "        dy = self.y_width / 2\n",
    "\n",
    "        return ((self.y_0 - dy, self.y_0 + dy),\n",
    "                (self.x_0 - dx, self.x_0 + dx))\n",
    "\n",
    "    @property\n",
    "    def input_units(self):\n",
    "        if self.x_0.unit is None:\n",
    "            return None\n",
    "        else:\n",
    "            return {'x': self.x_0.unit,\n",
    "                    'y': self.y_0.unit}\n",
    "\n",
    "    def _parameter_units_for_data_units(self, inputs_unit, outputs_unit):\n",
    "        return OrderedDict([('x_0', inputs_unit['x']),\n",
    "                            ('y_0', inputs_unit['y']),\n",
    "                            ('x_width', inputs_unit['x']),\n",
    "                            ('y_width', inputs_unit['y']),\n",
    "                            ('amplitude', outputs_unit['z'])])"
   ]
  },
  {
   "cell_type": "code",
   "execution_count": 3,
   "metadata": {},
   "outputs": [],
   "source": [
    "def fit_edges(profile):\n",
    "    fitter = fitting.LevMarLSQFitter()\n",
    "\n",
    "    amp1_est = profile[profile == min(profile)][0]\n",
    "    mean1_est = np.argmin(profile)\n",
    "    amp2_est = profile[profile == max(profile)][0]\n",
    "    mean2_est = np.argmax(profile)\n",
    "    \n",
    "    g_init1 = models.Gaussian1D(amplitude=amp1_est, mean=mean1_est, stddev=2.)\n",
    "    g_init1.amplitude.max = 0\n",
    "    g_init1.amplitude.min = amp1_est*0.9\n",
    "    g_init1.stddev.max = 3\n",
    "    g_init2 = models.Gaussian1D(amplitude=amp2_est, mean=mean2_est, stddev=2.)\n",
    "    g_init2.amplitude.min = 0\n",
    "    g_init2.amplitude.min = amp2_est*0.9\n",
    "    g_init2.stddev.max = 3\n",
    "\n",
    "\n",
    "    model = g_init1 + g_init2\n",
    "    fit = fitter(model, range(0,horizontal_profile.shape[0]), horizontal_profile)\n",
    "    \n",
    "    # Check Validity of Fit\n",
    "    if abs(fit.stddev_0.value) <= 3 and abs(fit.stddev_1.value) <= 3\\\n",
    "       and fit.amplitude_0.value < -1 and fit.amplitude_1.value > 1\\\n",
    "       and fit.mean_0.value > fit.mean_1.value:\n",
    "        x1 = fit.mean_0.value\n",
    "        x2 = fit.mean_1.value\n",
    "    else:\n",
    "        x1 = None\n",
    "        x2 = None\n",
    "\n",
    "    return x1, x2"
   ]
  },
  {
   "cell_type": "markdown",
   "metadata": {},
   "source": [
    "## Create Flat Field"
   ]
  },
  {
   "cell_type": "code",
   "execution_count": 4,
   "metadata": {},
   "outputs": [
    {
     "name": "stdout",
     "output_type": "stream",
     "text": [
      "INFO: using the unit adu passed to the FITS reader instead of the unit ADU per coadd in the FITS file. [astropy.nddata.ccddata]\n",
      "INFO: using the unit adu passed to the FITS reader instead of the unit ADU per coadd in the FITS file. [astropy.nddata.ccddata]\n"
     ]
    },
    {
     "name": "stderr",
     "output_type": "stream",
     "text": [
      "WARNING: FITSFixedWarning: RADECSYS= 'FK5 ' / Coordinate system \n",
      "the RADECSYS keyword is deprecated, use RADESYSa. [astropy.wcs.wcs]\n",
      "WARNING: FITSFixedWarning: 'datfix' made the change 'Invalid parameter value: inconsistent date '2018-01-30''. [astropy.wcs.wcs]\n"
     ]
    },
    {
     "name": "stdout",
     "output_type": "stream",
     "text": [
      "INFO: using the unit adu passed to the FITS reader instead of the unit ADU per coadd in the FITS file. [astropy.nddata.ccddata]\n",
      "INFO: using the unit adu passed to the FITS reader instead of the unit ADU per coadd in the FITS file. [astropy.nddata.ccddata]\n",
      "INFO: using the unit adu passed to the FITS reader instead of the unit ADU per coadd in the FITS file. [astropy.nddata.ccddata]\n",
      "INFO: using the unit adu passed to the FITS reader instead of the unit ADU per coadd in the FITS file. [astropy.nddata.ccddata]\n"
     ]
    }
   ],
   "source": [
    "filepath = '../../KeckData/MOSFIRE_FCS/'\n",
    "dark = CCDData.read(os.path.join(filepath, 'm180130_0001.fits'), unit='adu')\n",
    "\n",
    "flatfiles = ['m180130_0320.fits',\n",
    "         'm180130_0321.fits',\n",
    "         'm180130_0322.fits',\n",
    "         'm180130_0323.fits',\n",
    "         'm180130_0324.fits',\n",
    "        ]\n",
    "flats = []\n",
    "for i,file in enumerate(flatfiles):\n",
    "    flat = CCDData.read(os.path.join(filepath, file), unit='adu')\n",
    "    flat = flat.subtract(dark)\n",
    "    flats.append(flat)"
   ]
  },
  {
   "cell_type": "code",
   "execution_count": 5,
   "metadata": {},
   "outputs": [],
   "source": [
    "flat_combiner = Combiner(flats)\n",
    "flat_combiner.sigma_clipping()\n",
    "scaling_func = lambda arr: 1/np.ma.average(arr)\n",
    "flat_combiner.scaling = scaling_func\n",
    "masterflat = flat_combiner.median_combine()\n",
    "\n",
    "# masterflat.write('masterflat.fits', overwrite=True)"
   ]
  },
  {
   "cell_type": "markdown",
   "metadata": {},
   "source": [
    "## Process Alignment Image"
   ]
  },
  {
   "cell_type": "code",
   "execution_count": 6,
   "metadata": {},
   "outputs": [
    {
     "name": "stdout",
     "output_type": "stream",
     "text": [
      "INFO: using the unit adu passed to the FITS reader instead of the unit ADU per coadd in the FITS file. [astropy.nddata.ccddata]\n"
     ]
    },
    {
     "name": "stderr",
     "output_type": "stream",
     "text": [
      "WARNING: FITSFixedWarning: RADECSYS= 'FK5 ' / Coordinate system \n",
      "the RADECSYS keyword is deprecated, use RADESYSa. [astropy.wcs.wcs]\n"
     ]
    }
   ],
   "source": [
    "align1 = CCDData.read(os.path.join(filepath, 'm180130_0052.fits'), unit='adu')\n",
    "# align2 = CCDData.read(os.path.join(filepath, 'm180130_0051.fits'), unit='adu')"
   ]
  },
  {
   "cell_type": "code",
   "execution_count": 7,
   "metadata": {},
   "outputs": [
    {
     "name": "stderr",
     "output_type": "stream",
     "text": [
      "/Users/jwalawender/anaconda/lib/python3.6/site-packages/astropy/units/quantity.py:641: RuntimeWarning: divide by zero encountered in true_divide\n",
      "  *arrays, **kwargs)\n",
      "/Users/jwalawender/anaconda/lib/python3.6/site-packages/astropy/nddata/nduncertainty.py:606: RuntimeWarning: divide by zero encountered in true_divide\n",
      "  right = (other_uncert.array / other_uncert.parent_nddata.data)\n"
     ]
    }
   ],
   "source": [
    "align1ds = align1.subtract(dark)\n",
    "# align2ds = align2.subtract(dark)\n",
    "align1f = flat_correct(align1ds, masterflat)\n",
    "# align2f = flat_correct(align2ds, masterflat)"
   ]
  },
  {
   "cell_type": "code",
   "execution_count": 8,
   "metadata": {},
   "outputs": [],
   "source": [
    "# align1f.write('alignment_image1.fits', overwrite=True)\n",
    "# align2f.write('alignment_image2.fits', overwrite=True)"
   ]
  },
  {
   "cell_type": "markdown",
   "metadata": {},
   "source": [
    "## Find Alignment Box and Star"
   ]
  },
  {
   "cell_type": "code",
   "execution_count": 9,
   "metadata": {},
   "outputs": [
    {
     "name": "stdout",
     "output_type": "stream",
     "text": [
      "[1227:1287, 402:462]\n"
     ]
    },
    {
     "data": {
      "text/plain": [
       "<matplotlib.image.AxesImage at 0x10da4f5f8>"
      ]
     },
     "execution_count": 9,
     "metadata": {},
     "output_type": "execute_result"
    },
    {
     "data": {
      "image/png": "[encoded data removed]",
      "text/plain": [
       "<matplotlib.figure.Figure at 0x114df7fd0>"
      ]
     },
     "metadata": {},
     "output_type": "display_data"
    }
   ],
   "source": [
    "box_loc = (1257, 432)\n",
    "box_size = 30\n",
    "fits_section = f'[{box_loc[0]-box_size:d}:{box_loc[0]+box_size:d}, {box_loc[1]-box_size:d}:{box_loc[1]+box_size:d}]'\n",
    "print(fits_section)\n",
    "region = trim_image(align1f, fits_section=fits_section)\n",
    "\n",
    "plt.figure(figsize=(5,10))\n",
    "plt.subplot(1,2,1)\n",
    "plt.imshow(region.data)\n",
    "plt.subplot(1,2,2)\n",
    "plt.imshow(region.uncertainty.array)"
   ]
  },
  {
   "cell_type": "code",
   "execution_count": 10,
   "metadata": {},
   "outputs": [],
   "source": [
    "threshold_pct = 70\n",
    "window = region.data > np.percentile(region.data, threshold_pct)\n",
    "alignment_box_position = ndimage.measurements.center_of_mass(window)\n",
    "# plt.imshow(window)"
   ]
  },
  {
   "cell_type": "code",
   "execution_count": 11,
   "metadata": {},
   "outputs": [],
   "source": [
    "gradx = np.gradient(region.data, axis=1)\n",
    "horizontal_profile = np.sum(gradx, axis=0)\n",
    "grady = np.gradient(region.data, axis=0)\n",
    "vertical_profile = np.sum(grady, axis=1)"
   ]
  },
  {
   "cell_type": "code",
   "execution_count": 12,
   "metadata": {},
   "outputs": [
    {
     "name": "stdout",
     "output_type": "stream",
     "text": [
      "(39.790421547279379, 17.340539682653407)\n",
      "22.4498818646\n"
     ]
    }
   ],
   "source": [
    "# plt.plot(horizontal_profile)\n",
    "h_edges = fit_edges(horizontal_profile)\n",
    "print(h_edges)\n",
    "print(h_edges[0]-h_edges[1])"
   ]
  },
  {
   "cell_type": "code",
   "execution_count": 13,
   "metadata": {},
   "outputs": [
    {
     "name": "stdout",
     "output_type": "stream",
     "text": [
      "(53.47503558627843, 17.453436659695061)\n",
      "36.0215989266\n"
     ]
    }
   ],
   "source": [
    "# plt.plot(vertical_profile)\n",
    "v_edges = fit_edges(vertical_profile)\n",
    "print(v_edges)\n",
    "print(v_edges[0]-v_edges[1])"
   ]
  },
  {
   "cell_type": "code",
   "execution_count": 14,
   "metadata": {},
   "outputs": [
    {
     "name": "stdout",
     "output_type": "stream",
     "text": [
      "5022.85516155 28.605734767 32.5994623656\n"
     ]
    }
   ],
   "source": [
    "boxamplitude = np.percentile(region.data, 90)\n",
    "star_amplitude = region.data.max() - boxamplitude\n",
    "\n",
    "box = mosfireAlignmentBox(boxamplitude, alignment_box_position[1], alignment_box_position[0],\\\n",
    "                   abs(h_edges[0]-h_edges[1]), abs(v_edges[0]-v_edges[1]))\n",
    "\n",
    "star = models.Gaussian2D(star_amplitude, 22, 38)\n",
    "star.amplitude.min = 0\n",
    "star.x_stddev.min = 1\n",
    "star.x_stddev.max = 8\n",
    "star.y_stddev.min = 1\n",
    "star.y_stddev.max = 8\n",
    "\n",
    "model = box + star\n",
    "print(star_amplitude, alignment_box_position[1], alignment_box_position[0])"
   ]
  },
  {
   "cell_type": "code",
   "execution_count": 15,
   "metadata": {},
   "outputs": [
    {
     "name": "stderr",
     "output_type": "stream",
     "text": [
      "WARNING: The fit may be unsuccessful; check fit_info['message'] for more information. [astropy.modeling.fitting]\n"
     ]
    }
   ],
   "source": [
    "fitter = fitting.LevMarLSQFitter()\n",
    "y, x = np.mgrid[:2*box_size+1, :2*box_size+1]\n",
    "fit = fitter(model, x, y, region.data)"
   ]
  },
  {
   "cell_type": "code",
   "execution_count": 16,
   "metadata": {},
   "outputs": [
    {
     "data": {
      "text/plain": [
       "[<matplotlib.lines.Line2D at 0x181dc80eb8>]"
      ]
     },
     "execution_count": 16,
     "metadata": {},
     "output_type": "execute_result"
    },
    {
     "data": {
      "image/png": "[encoded data removed]",
      "text/plain": [
       "<matplotlib.figure.Figure at 0x1130a8400>"
      ]
     },
     "metadata": {},
     "output_type": "display_data"
    }
   ],
   "source": [
    "plt.plot(region.data[:,26], 'k-')\n",
    "plt.plot([model(26, i) for i in range(0,60)], 'k-', alpha=0.5)\n",
    "plt.plot([fit(26, i) for i in range(0,60)], 'g-')"
   ]
  },
  {
   "cell_type": "code",
   "execution_count": 17,
   "metadata": {},
   "outputs": [],
   "source": [
    "modelim = np.zeros((61,61))\n",
    "fitim = np.zeros((61,61))\n",
    "for i in range(0,60):\n",
    "    for j in range(0,60):\n",
    "        modelim[j,i] = model(i,j)\n",
    "        fitim[j,i] = fit(i,j)\n",
    "resid = region.data-fitim"
   ]
  },
  {
   "cell_type": "code",
   "execution_count": 18,
   "metadata": {},
   "outputs": [
    {
     "data": {
      "text/plain": [
       "<matplotlib.image.AxesImage at 0x181ded1550>"
      ]
     },
     "execution_count": 18,
     "metadata": {},
     "output_type": "execute_result"
    },
    {
     "data": {
      "image/png": "[encoded data removed]",
      "text/plain": [
       "<matplotlib.figure.Figure at 0x181de2c5c0>"
      ]
     },
     "metadata": {},
     "output_type": "display_data"
    }
   ],
   "source": [
    "plt.figure(figsize=(16,24))\n",
    "plt.subplot(1,4,1)\n",
    "plt.imshow(region.data, vmin=7000, vmax=12000)\n",
    "plt.subplot(1,4,2)\n",
    "plt.imshow(modelim, vmin=7000, vmax=12000)\n",
    "plt.subplot(1,4,3)\n",
    "plt.imshow(fitim, vmin=7000, vmax=12000)\n",
    "plt.subplot(1,4,4)\n",
    "plt.imshow(resid, vmin=-1000, vmax=1000)"
   ]
  },
  {
   "cell_type": "code",
   "execution_count": 19,
   "metadata": {},
   "outputs": [
    {
     "name": "stdout",
     "output_type": "stream",
     "text": [
      "Stellar FWHM = 1.31 arcsec\n",
      "Stellar Xpos = 25.2\n",
      "Stellar Xpos = 38.0\n",
      "Box X Center = 28.6\n",
      "Box Y Center = 32.6\n",
      "Sky Brightness = 7488 ADU\n",
      "Stellar Amplitude = 4272 ADU\n",
      "Stellar Flux (fit) = 256190 ADU\n"
     ]
    }
   ],
   "source": [
    "pixelscale = u.pixel_scale(0.1798*u.arcsec/u.pixel)\n",
    "FWHMx = 2*(2*np.log(2))**0.5*fit.x_stddev_1 * u.pix\n",
    "FWHMy = 2*(2*np.log(2))**0.5*fit.y_stddev_1 * u.pix\n",
    "FWHM = (FWHMx**2 + FWHMy**2)**0.5/2**0.5\n",
    "stellar_flux = 2*np.pi*fit.amplitude_1.value*fit.x_stddev_1.value*fit.y_stddev_1.value\n",
    "\n",
    "print(f\"Stellar FWHM = {FWHM.to(u.arcsec, equivalencies=pixelscale):.2f}\")\n",
    "print(f\"Stellar Xpos = {fit.x_mean_1.value:.1f}\")\n",
    "print(f\"Stellar Xpos = {fit.y_mean_1.value:.1f}\")\n",
    "print(f\"Box X Center = {fit.x_0_0.value:.1f}\")\n",
    "print(f\"Box Y Center = {fit.y_0_0.value:.1f}\")\n",
    "print(f\"Sky Brightness = {fit.amplitude_0.value:.0f} ADU\")\n",
    "print(f\"Stellar Amplitude = {fit.amplitude_1.value:.0f} ADU\")\n",
    "print(f\"Stellar Flux (fit) = {stellar_flux:.0f} ADU\")"
   ]
  },
  {
   "cell_type": "code",
   "execution_count": 20,
   "metadata": {},
   "outputs": [
    {
     "data": {
      "text/plain": [
       "[<matplotlib.lines.Line2D at 0x181dfbaef0>]"
      ]
     },
     "execution_count": 20,
     "metadata": {},
     "output_type": "execute_result"
    },
    {
     "data": {
      "image/png": "[encoded data removed]",
      "text/plain": [
       "<matplotlib.figure.Figure at 0x181df595f8>"
      ]
     },
     "metadata": {},
     "output_type": "display_data"
    }
   ],
   "source": [
    "plt.figure(figsize=(8,8))\n",
    "plt.imshow(region.data)\n",
    "plt.plot([fit.x_mean_1.value], [fit.y_mean_1.value], 'go', ms=10)\n",
    "plt.plot([fit.x_0_0.value], [fit.y_0_0.value], 'bx', ms=15)"
   ]
  },
  {
   "cell_type": "code",
   "execution_count": null,
   "metadata": {},
   "outputs": [],
   "source": []
  }
 ],
 "metadata": {
  "kernelspec": {
   "display_name": "Python 3",
   "language": "python",
   "name": "python3"
  },
  "language_info": {
   "codemirror_mode": {
    "name": "ipython",
    "version": 3
   },
   "file_extension": ".py",
   "mimetype": "text/x-python",
   "name": "python",
   "nbconvert_exporter": "python",
   "pygments_lexer": "ipython3",
   "version": "3.6.3"
  }
 },
 "nbformat": 4,
 "nbformat_minor": 2
}
