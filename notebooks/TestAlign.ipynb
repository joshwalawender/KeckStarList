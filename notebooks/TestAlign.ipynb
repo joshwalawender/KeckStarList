{
 "cells": [
  {
   "cell_type": "code",
   "execution_count": 1,
   "metadata": {},
   "outputs": [],
   "source": [
    "%matplotlib inline\n",
    "import os\n",
    "from matplotlib import pyplot as plt\n",
    "from scipy import ndimage\n",
    "\n",
    "import numpy as np\n",
    "from astropy.io import fits\n",
    "from astropy import units as u\n",
    "from astropy.modeling import models, fitting, Fittable2DModel, Parameter\n",
    "from ccdproc import CCDData, combine, Combiner, flat_correct, trim_image"
   ]
  },
  {
   "cell_type": "markdown",
   "metadata": {},
   "source": [
    "I'm going to be fitting a model to the alignment box image.  This model will be the alignment box itself, plus a single 2D gaussian star.  The following class is an `astropy.models` model of the trapezoidal shape of the MOSFIRE alignment box."
   ]
  },
  {
   "cell_type": "code",
   "execution_count": 2,
   "metadata": {},
   "outputs": [],
   "source": [
    "class mosfireAlignmentBox(Fittable2DModel):\n",
    "    amplitude = Parameter(default=1)\n",
    "    x_0 = Parameter(default=0)\n",
    "    y_0 = Parameter(default=0)\n",
    "    x_width = Parameter(default=1)\n",
    "    y_width = Parameter(default=1)\n",
    "\n",
    "    @staticmethod\n",
    "    def evaluate(x, y, amplitude, x_0, y_0, x_width, y_width):\n",
    "        '''MOSFIRE Alignment Box.\n",
    "        \n",
    "        Typical widths are 22.5 pix horizontally and 36.0 pix vertically.\n",
    "        \n",
    "        Angle of slit relative to pixels is 3.78 degrees.\n",
    "        '''\n",
    "        slit_angle = -3.7 # in degrees\n",
    "        x0_of_y = x_0 + (y-y_0)*np.sin(slit_angle*np.pi/180)\n",
    "        \n",
    "        x_range = np.logical_and(x >= x0_of_y - x_width / 2.,\n",
    "                                 x <= x0_of_y + x_width / 2.)\n",
    "        y_range = np.logical_and(y >= y_0 - y_width / 2.,\n",
    "                                 y <= y_0 + y_width / 2.)\n",
    "        result = np.select([np.logical_and(x_range, y_range)], [amplitude], 0)\n",
    "\n",
    "        if isinstance(amplitude, u.Quantity):\n",
    "            return Quantity(result, unit=amplitude.unit, copy=False)\n",
    "        else:\n",
    "            return result\n",
    "\n",
    "    @property\n",
    "    def bounding_box(self):\n",
    "        \"\"\"\n",
    "        Tuple defining the default ``bounding_box``.\n",
    "\n",
    "        ``((y_low, y_high), (x_low, x_high))``\n",
    "        \"\"\"\n",
    "\n",
    "        dx = self.x_width / 2\n",
    "        dy = self.y_width / 2\n",
    "\n",
    "        return ((self.y_0 - dy, self.y_0 + dy),\n",
    "                (self.x_0 - dx, self.x_0 + dx))\n",
    "\n",
    "    @property\n",
    "    def input_units(self):\n",
    "        if self.x_0.unit is None:\n",
    "            return None\n",
    "        else:\n",
    "            return {'x': self.x_0.unit,\n",
    "                    'y': self.y_0.unit}\n",
    "\n",
    "    def _parameter_units_for_data_units(self, inputs_unit, outputs_unit):\n",
    "        return OrderedDict([('x_0', inputs_unit['x']),\n",
    "                            ('y_0', inputs_unit['y']),\n",
    "                            ('x_width', inputs_unit['x']),\n",
    "                            ('y_width', inputs_unit['y']),\n",
    "                            ('amplitude', outputs_unit['z'])])"
   ]
  },
  {
   "cell_type": "markdown",
   "metadata": {},
   "source": [
    "This is a simple helper function which I stole from my `CSU_initializer` project.  It may not be necessary as I am effectively fitting the location of the alignment box twice."
   ]
  },
  {
   "cell_type": "code",
   "execution_count": 3,
   "metadata": {},
   "outputs": [],
   "source": [
    "def fit_edges(profile):\n",
    "    fitter = fitting.LevMarLSQFitter()\n",
    "\n",
    "    amp1_est = profile[profile == min(profile)][0]\n",
    "    mean1_est = np.argmin(profile)\n",
    "    amp2_est = profile[profile == max(profile)][0]\n",
    "    mean2_est = np.argmax(profile)\n",
    "    \n",
    "    g_init1 = models.Gaussian1D(amplitude=amp1_est, mean=mean1_est, stddev=2.)\n",
    "    g_init1.amplitude.max = 0\n",
    "    g_init1.amplitude.min = amp1_est*0.9\n",
    "    g_init1.stddev.max = 3\n",
    "    g_init2 = models.Gaussian1D(amplitude=amp2_est, mean=mean2_est, stddev=2.)\n",
    "    g_init2.amplitude.min = 0\n",
    "    g_init2.amplitude.min = amp2_est*0.9\n",
    "    g_init2.stddev.max = 3\n",
    "\n",
    "    model = g_init1 + g_init2\n",
    "    fit = fitter(model, range(0,horizontal_profile.shape[0]), horizontal_profile)\n",
    "    \n",
    "    # Check Validity of Fit\n",
    "    if abs(fit.stddev_0.value) <= 3 and abs(fit.stddev_1.value) <= 3\\\n",
    "       and fit.amplitude_0.value < -1 and fit.amplitude_1.value > 1\\\n",
    "       and fit.mean_0.value > fit.mean_1.value:\n",
    "        x1 = fit.mean_0.value\n",
    "        x2 = fit.mean_1.value\n",
    "    else:\n",
    "        x1 = None\n",
    "        x2 = None\n",
    "\n",
    "    return x1, x2"
   ]
  },
  {
   "cell_type": "markdown",
   "metadata": {},
   "source": [
    "## Create Flat Field\n",
    "\n",
    "Rather than take time to obtain a sky frame for each mask alignment, I am going to treat the sky background as a constant over the alignment box area (roughly 4 x 7 arcsec).  To do that, I need to flat field the image.\n",
    "\n",
    "Note that this flat field is built using data from a different night than the alignment box image we will be processing."
   ]
  },
  {
   "cell_type": "code",
   "execution_count": 4,
   "metadata": {},
   "outputs": [
    {
     "name": "stdout",
     "output_type": "stream",
     "text": [
      "INFO: using the unit adu passed to the FITS reader instead of the unit ADU per coadd in the FITS file. [astropy.nddata.ccddata]\n",
      "INFO: using the unit adu passed to the FITS reader instead of the unit ADU per coadd in the FITS file. [astropy.nddata.ccddata]\n"
     ]
    },
    {
     "name": "stderr",
     "output_type": "stream",
     "text": [
      "WARNING: FITSFixedWarning: RADECSYS= 'FK5 ' / Coordinate system \n",
      "the RADECSYS keyword is deprecated, use RADESYSa. [astropy.wcs.wcs]\n",
      "WARNING: FITSFixedWarning: 'datfix' made the change 'Invalid parameter value: inconsistent date '2018-01-30''. [astropy.wcs.wcs]\n"
     ]
    },
    {
     "name": "stdout",
     "output_type": "stream",
     "text": [
      "INFO: using the unit adu passed to the FITS reader instead of the unit ADU per coadd in the FITS file. [astropy.nddata.ccddata]\n",
      "INFO: using the unit adu passed to the FITS reader instead of the unit ADU per coadd in the FITS file. [astropy.nddata.ccddata]\n",
      "INFO: using the unit adu passed to the FITS reader instead of the unit ADU per coadd in the FITS file. [astropy.nddata.ccddata]\n",
      "INFO: using the unit adu passed to the FITS reader instead of the unit ADU per coadd in the FITS file. [astropy.nddata.ccddata]\n"
     ]
    }
   ],
   "source": [
    "filepath = '../../KeckData/MOSFIRE_FCS/'\n",
    "dark = CCDData.read(os.path.join(filepath, 'm180130_0001.fits'), unit='adu')\n",
    "\n",
    "flatfiles = ['m180130_0320.fits',\n",
    "             'm180130_0321.fits',\n",
    "             'm180130_0322.fits',\n",
    "             'm180130_0323.fits',\n",
    "             'm180130_0324.fits',\n",
    "            ]\n",
    "flats = []\n",
    "for i,file in enumerate(flatfiles):\n",
    "    flat = CCDData.read(os.path.join(filepath, file), unit='adu')\n",
    "    flat = flat.subtract(dark)\n",
    "    flats.append(flat)"
   ]
  },
  {
   "cell_type": "code",
   "execution_count": 5,
   "metadata": {},
   "outputs": [],
   "source": [
    "flat_combiner = Combiner(flats)\n",
    "flat_combiner.sigma_clipping()\n",
    "scaling_func = lambda arr: 1/np.ma.average(arr)\n",
    "flat_combiner.scaling = scaling_func\n",
    "masterflat = flat_combiner.median_combine()\n",
    "\n",
    "# masterflat.write('masterflat.fits', overwrite=True)"
   ]
  },
  {
   "cell_type": "markdown",
   "metadata": {},
   "source": [
    "## Reduce Alignment Image"
   ]
  },
  {
   "cell_type": "code",
   "execution_count": 6,
   "metadata": {},
   "outputs": [
    {
     "name": "stdout",
     "output_type": "stream",
     "text": [
      "INFO: using the unit adu passed to the FITS reader instead of the unit ADU per coadd in the FITS file. [astropy.nddata.ccddata]\n"
     ]
    },
    {
     "name": "stderr",
     "output_type": "stream",
     "text": [
      "WARNING: FITSFixedWarning: RADECSYS= 'FK5 ' / Coordinate system \n",
      "the RADECSYS keyword is deprecated, use RADESYSa. [astropy.wcs.wcs]\n",
      "/Users/jwalawender/anaconda/lib/python3.6/site-packages/astropy/units/quantity.py:641: RuntimeWarning: divide by zero encountered in true_divide\n",
      "  *arrays, **kwargs)\n",
      "/Users/jwalawender/anaconda/lib/python3.6/site-packages/astropy/nddata/nduncertainty.py:606: RuntimeWarning: divide by zero encountered in true_divide\n",
      "  right = (other_uncert.array / other_uncert.parent_nddata.data)\n"
     ]
    }
   ],
   "source": [
    "# align1 = CCDData.read(os.path.join(filepath, 'm180130_0052.fits'), unit='adu')\n",
    "align1 = CCDData.read(os.path.join(filepath, 'm180210_0254.fits'), unit='adu')\n",
    "align1ds = align1.subtract(dark)\n",
    "align1f = flat_correct(align1ds, masterflat)"
   ]
  },
  {
   "cell_type": "markdown",
   "metadata": {},
   "source": [
    "## Find Alignment Box and Star\n",
    "\n",
    "For now, I am manually entering the rough location of the alignment box within the CCD.  This should be read from header."
   ]
  },
  {
   "cell_type": "code",
   "execution_count": 7,
   "metadata": {},
   "outputs": [
    {
     "name": "stdout",
     "output_type": "stream",
     "text": [
      "[791:851, 1555:1615]\n"
     ]
    }
   ],
   "source": [
    "# box_loc = (1257, 432) # for m180130_0052\n",
    "# box_loc = (1544, 967) # for m180210_0254\n",
    "box_loc = (821, 1585) # for m180210_0254\n",
    "\n",
    "box_size = 30\n",
    "fits_section = f'[{box_loc[0]-box_size:d}:{box_loc[0]+box_size:d}, {box_loc[1]-box_size:d}:{box_loc[1]+box_size:d}]'\n",
    "print(fits_section)\n",
    "region = trim_image(align1f, fits_section=fits_section)"
   ]
  },
  {
   "cell_type": "markdown",
   "metadata": {},
   "source": [
    "The code below estimates the center of the alignment box"
   ]
  },
  {
   "cell_type": "code",
   "execution_count": 8,
   "metadata": {},
   "outputs": [],
   "source": [
    "threshold_pct = 70\n",
    "window = region.data > np.percentile(region.data, threshold_pct)\n",
    "alignment_box_position = ndimage.measurements.center_of_mass(window)\n",
    "# plt.imshow(window)"
   ]
  },
  {
   "cell_type": "markdown",
   "metadata": {},
   "source": [
    "The code below finds the edges of the box and measures its width and height."
   ]
  },
  {
   "cell_type": "code",
   "execution_count": 9,
   "metadata": {},
   "outputs": [],
   "source": [
    "gradx = np.gradient(region.data, axis=1)\n",
    "horizontal_profile = np.sum(gradx, axis=0)\n",
    "grady = np.gradient(region.data, axis=0)\n",
    "vertical_profile = np.sum(grady, axis=1)"
   ]
  },
  {
   "cell_type": "code",
   "execution_count": 10,
   "metadata": {},
   "outputs": [
    {
     "name": "stdout",
     "output_type": "stream",
     "text": [
      "(38.458392602432376, 16.464440941912638) 21.9939516605\n"
     ]
    }
   ],
   "source": [
    "h_edges = fit_edges(horizontal_profile)\n",
    "print(h_edges, h_edges[0]-h_edges[1])"
   ]
  },
  {
   "cell_type": "code",
   "execution_count": 11,
   "metadata": {},
   "outputs": [
    {
     "name": "stdout",
     "output_type": "stream",
     "text": [
      "(47.494425554924831, 16.47121914770538) 31.0232064072\n"
     ]
    },
    {
     "name": "stderr",
     "output_type": "stream",
     "text": [
      "WARNING: The fit may be unsuccessful; check fit_info['message'] for more information. [astropy.modeling.fitting]\n"
     ]
    }
   ],
   "source": [
    "v_edges = fit_edges(vertical_profile)\n",
    "print(v_edges, v_edges[0]-v_edges[1])"
   ]
  },
  {
   "cell_type": "markdown",
   "metadata": {},
   "source": [
    "This code estimates the initial location of the star.  The fit to the star is quite rudimentary and could be replaced by more sophisticated methods."
   ]
  },
  {
   "cell_type": "code",
   "execution_count": 12,
   "metadata": {},
   "outputs": [],
   "source": [
    "maxr = region.data.max()\n",
    "starloc = (np.where(region.data == maxr)[0][0], np.where(region.data == maxr)[1][0])"
   ]
  },
  {
   "cell_type": "markdown",
   "metadata": {},
   "source": [
    "### Build Model for Box + Star\n",
    "\n",
    "Build an `astropy.models` model of the alignment box **and** star and fit the compound model to the data."
   ]
  },
  {
   "cell_type": "code",
   "execution_count": 13,
   "metadata": {},
   "outputs": [
    {
     "name": "stdout",
     "output_type": "stream",
     "text": [
      "3186.98053908 27.5331541219 29.1227598566\n"
     ]
    }
   ],
   "source": [
    "boxamplitude = np.percentile(region.data, 90)\n",
    "star_amplitude = region.data.max() - boxamplitude\n",
    "\n",
    "box = mosfireAlignmentBox(boxamplitude, alignment_box_position[1], alignment_box_position[0],\\\n",
    "                   abs(h_edges[0]-h_edges[1]), abs(v_edges[0]-v_edges[1]))\n",
    "\n",
    "star = models.Gaussian2D(star_amplitude, starloc[0], starloc[1])\n",
    "star.amplitude.min = 0\n",
    "star.x_stddev.min = 1\n",
    "star.x_stddev.max = 8\n",
    "star.y_stddev.min = 1\n",
    "star.y_stddev.max = 8\n",
    "\n",
    "model = box + star\n",
    "print(star_amplitude, alignment_box_position[1], alignment_box_position[0])"
   ]
  },
  {
   "cell_type": "code",
   "execution_count": 14,
   "metadata": {},
   "outputs": [],
   "source": [
    "fitter = fitting.LevMarLSQFitter()\n",
    "y, x = np.mgrid[:2*box_size+1, :2*box_size+1]\n",
    "fit = fitter(model, x, y, region.data)"
   ]
  },
  {
   "cell_type": "code",
   "execution_count": 15,
   "metadata": {},
   "outputs": [],
   "source": [
    "# Do stupid way of generating an image from the model for visualization (replace this later)\n",
    "modelim = np.zeros((61,61))\n",
    "fitim = np.zeros((61,61))\n",
    "for i in range(0,60):\n",
    "    for j in range(0,60):\n",
    "        modelim[j,i] = model(i,j)\n",
    "        fitim[j,i] = fit(i,j)\n",
    "resid = region.data-fitim"
   ]
  },
  {
   "cell_type": "markdown",
   "metadata": {},
   "source": [
    "## Results\n",
    "\n",
    "The cell below, shows the image, the initial model guess, the fitted model, and the difference between the data and the model."
   ]
  },
  {
   "cell_type": "code",
   "execution_count": 16,
   "metadata": {},
   "outputs": [
    {
     "data": {
      "image/png": "[encoded data removed]",
      "text/plain": [
       "<matplotlib.figure.Figure at 0x107310b38>"
      ]
     },
     "metadata": {},
     "output_type": "display_data"
    }
   ],
   "source": [
    "plt.figure(figsize=(16,24))\n",
    "plt.subplot(1,4,1)\n",
    "plt.imshow(region.data, vmin=fit.amplitude_0.value-1000, vmax=fit.amplitude_0.value+fit.amplitude_1.value-1000)\n",
    "plt.subplot(1,4,2)\n",
    "plt.imshow(modelim, vmin=fit.amplitude_0.value-1000, vmax=fit.amplitude_0.value+fit.amplitude_1.value-1000)\n",
    "plt.subplot(1,4,3)\n",
    "plt.imshow(fitim, vmin=fit.amplitude_0.value-1000, vmax=fit.amplitude_0.value+fit.amplitude_1.value-1000)\n",
    "plt.subplot(1,4,4)\n",
    "plt.imshow(resid, vmin=-1000, vmax=1000)\n",
    "plt.show()"
   ]
  },
  {
   "cell_type": "markdown",
   "metadata": {},
   "source": [
    "## Results\n",
    "\n",
    "Show the image with an overlay marking the determined center of the alignment box and the position of the star.\n",
    "\n",
    "Please note that this code fits the location of the box and so it can **confirm** the FCS operation has placed the box in a consistent location when checked against the header.\n",
    "\n",
    "It should also be able to message and automatically respond if the star is not found or is very faint (i.e. it has lower than expected flux)."
   ]
  },
  {
   "cell_type": "code",
   "execution_count": 17,
   "metadata": {},
   "outputs": [
    {
     "data": {
      "image/png": "[encoded data removed]",
      "text/plain": [
       "<matplotlib.figure.Figure at 0x1816826518>"
      ]
     },
     "metadata": {},
     "output_type": "display_data"
    },
    {
     "name": "stdout",
     "output_type": "stream",
     "text": [
      "Stellar FWHM = 1.00 arcsec\n",
      "Stellar Xpos = 23.0\n",
      "Stellar Xpos = 24.7\n",
      "Box X Center = 27.5\n",
      "Box Y Center = 29.1\n",
      "Sky Brightness = 3435 ADU\n",
      "Stellar Amplitude = 3082 ADU\n",
      "Stellar Flux (fit) = 103987 ADU\n"
     ]
    }
   ],
   "source": [
    "pixelscale = u.pixel_scale(0.1798*u.arcsec/u.pixel)\n",
    "FWHMx = 2*(2*np.log(2))**0.5*fit.x_stddev_1 * u.pix\n",
    "FWHMy = 2*(2*np.log(2))**0.5*fit.y_stddev_1 * u.pix\n",
    "FWHM = (FWHMx**2 + FWHMy**2)**0.5/2**0.5\n",
    "stellar_flux = 2*np.pi*fit.amplitude_1.value*fit.x_stddev_1.value*fit.y_stddev_1.value\n",
    "\n",
    "plt.figure(figsize=(8,8))\n",
    "plt.imshow(region.data, vmin=fit.amplitude_0.value-1000, vmax=fit.amplitude_0.value+fit.amplitude_1.value-1000)\n",
    "plt.plot([fit.x_mean_1.value], [fit.y_mean_1.value], 'go', ms=10)\n",
    "plt.text(fit.x_mean_1.value+1, fit.x_mean_1.value-1, 'Star', color='green', fontsize=18)\n",
    "plt.plot([fit.x_0_0.value], [fit.y_0_0.value], 'bx', ms=15)\n",
    "plt.text(fit.x_0_0.value+2, fit.y_0_0.value, 'Box Center', color='blue', fontsize=18)\n",
    "plt.show()\n",
    "\n",
    "print(f\"Stellar FWHM = {FWHM.to(u.arcsec, equivalencies=pixelscale):.2f}\")\n",
    "print(f\"Stellar Xpos = {fit.x_mean_1.value:.1f}\")\n",
    "print(f\"Stellar Xpos = {fit.y_mean_1.value:.1f}\")\n",
    "print(f\"Box X Center = {fit.x_0_0.value:.1f}\")\n",
    "print(f\"Box Y Center = {fit.y_0_0.value:.1f}\")\n",
    "print(f\"Sky Brightness = {fit.amplitude_0.value:.0f} ADU\")\n",
    "print(f\"Stellar Amplitude = {fit.amplitude_1.value:.0f} ADU\")\n",
    "print(f\"Stellar Flux (fit) = {stellar_flux:.0f} ADU\")"
   ]
  },
  {
   "cell_type": "code",
   "execution_count": null,
   "metadata": {},
   "outputs": [],
   "source": []
  },
  {
   "cell_type": "code",
   "execution_count": null,
   "metadata": {},
   "outputs": [],
   "source": []
  }
 ],
 "metadata": {
  "kernelspec": {
   "display_name": "Python 3",
   "language": "python",
   "name": "python3"
  },
  "language_info": {
   "codemirror_mode": {
    "name": "ipython",
    "version": 3
   },
   "file_extension": ".py",
   "mimetype": "text/x-python",
   "name": "python",
   "nbconvert_exporter": "python",
   "pygments_lexer": "ipython3",
   "version": "3.6.3"
  }
 },
 "nbformat": 4,
 "nbformat_minor": 2
}
